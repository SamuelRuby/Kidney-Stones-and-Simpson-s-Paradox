{
  "nbformat": 4,
  "nbformat_minor": 0,
  "metadata": {
    "colab": {
      "name": "Kidney stones and Simpson's paradox",
      "provenance": [],
      "collapsed_sections": [],
      "authorship_tag": "ABX9TyPFZtWmFCMgqG+hnMdzC4Um",
      "include_colab_link": true
    },
    "kernelspec": {
      "name": "python3",
      "display_name": "Python 3"
    },
    "language_info": {
      "name": "python"
    }
  },
  "cells": [
    {
      "cell_type": "markdown",
      "metadata": {
        "id": "view-in-github",
        "colab_type": "text"
      },
      "source": [
        "<a href=\"https://colab.research.google.com/github/SamuelRuby/Kidney-Stones-and-Simpson-s-Paradox/blob/main/Kidney_stones_and_Simpson's_paradox.ipynb\" target=\"_parent\"><img src=\"https://colab.research.google.com/assets/colab-badge.svg\" alt=\"Open In Colab\"/></a>"
      ]
    },
    {
      "cell_type": "markdown",
      "source": [
        "Data set was imported from \n",
        "\n",
        "https://www.kaggle.com/datasets/utkarshxy/kidney-stone-data?resource=download&select=kidney_stone_data.csv"
      ],
      "metadata": {
        "id": "VGA6dNh45B3Q"
      }
    },
    {
      "cell_type": "code",
      "source": [
        "#to load R in a python environment . google colab in this case\n",
        "%load_ext rpy2.ipython"
      ],
      "metadata": {
        "id": "qoAVaiQBp3Ae"
      },
      "execution_count": null,
      "outputs": []
    },
    {
      "cell_type": "code",
      "source": [
        "#importing tidyverse package\n",
        "%%R\n",
        "library(tidyverse)"
      ],
      "metadata": {
        "colab": {
          "base_uri": "https://localhost:8080/"
        },
        "id": "Yp7TowUFqFGa",
        "outputId": "ac55f23e-0aaf-4ce4-9d8f-a0b7f5997273"
      },
      "execution_count": 3,
      "outputs": [
        {
          "output_type": "stream",
          "name": "stderr",
          "text": [
            "R[write to console]: ── Attaching packages ─────────────────────────────────────── tidyverse 1.3.1 ──\n",
            "\n",
            "R[write to console]: ✔ ggplot2 3.3.5     ✔ purrr   0.3.4\n",
            "✔ tibble  3.1.6     ✔ dplyr   1.0.8\n",
            "✔ tidyr   1.2.0     ✔ stringr 1.4.0\n",
            "✔ readr   2.1.2     ✔ forcats 0.5.1\n",
            "\n",
            "R[write to console]: ── Conflicts ────────────────────────────────────────── tidyverse_conflicts() ──\n",
            "✖ dplyr::filter() masks stats::filter()\n",
            "✖ dplyr::lag()    masks stats::lag()\n",
            "\n"
          ]
        }
      ]
    },
    {
      "cell_type": "code",
      "source": [
        "#testruning to ensure that my package is installed\n",
        "%%R\n",
        "mpg"
      ],
      "metadata": {
        "colab": {
          "base_uri": "https://localhost:8080/"
        },
        "id": "PYmP1diyrCNf",
        "outputId": "7ef8562d-5924-4cf0-e304-72a81eebe82a"
      },
      "execution_count": 4,
      "outputs": [
        {
          "output_type": "stream",
          "name": "stdout",
          "text": [
            "# A tibble: 234 × 11\n",
            "   manufacturer model      displ  year   cyl trans drv     cty   hwy fl    class\n",
            "   <chr>        <chr>      <dbl> <int> <int> <chr> <chr> <int> <int> <chr> <chr>\n",
            " 1 audi         a4           1.8  1999     4 auto… f        18    29 p     comp…\n",
            " 2 audi         a4           1.8  1999     4 manu… f        21    29 p     comp…\n",
            " 3 audi         a4           2    2008     4 manu… f        20    31 p     comp…\n",
            " 4 audi         a4           2    2008     4 auto… f        21    30 p     comp…\n",
            " 5 audi         a4           2.8  1999     6 auto… f        16    26 p     comp…\n",
            " 6 audi         a4           2.8  1999     6 manu… f        18    26 p     comp…\n",
            " 7 audi         a4           3.1  2008     6 auto… f        18    27 p     comp…\n",
            " 8 audi         a4 quattro   1.8  1999     4 manu… 4        18    26 p     comp…\n",
            " 9 audi         a4 quattro   1.8  1999     4 auto… 4        16    25 p     comp…\n",
            "10 audi         a4 quattro   2    2008     4 manu… 4        20    28 p     comp…\n",
            "# … with 224 more rows\n"
          ]
        }
      ]
    },
    {
      "cell_type": "code",
      "source": [
        "%%R\n",
        "# Load the readr and dplyr packages\n",
        "library(readr)\n",
        "library(dplyr)\n",
        "\n",
        "data <- read_csv(\"/content/sample_data/kidney_stone_data.csv\")\n",
        "# Take a look at the first few rows of the dataset\n",
        "head(data)"
      ],
      "metadata": {
        "colab": {
          "base_uri": "https://localhost:8080/"
        },
        "id": "CFvyk_tmx9ww",
        "outputId": "5b31143a-aaa0-459a-cd20-ed214eac514f"
      },
      "execution_count": 32,
      "outputs": [
        {
          "output_type": "stream",
          "name": "stdout",
          "text": [
            "Rows: 700 Columns: 3\n",
            "── Column specification ────────────────────────────────────────────────────────\n",
            "Delimiter: \",\"\n",
            "chr (2): treatment, stone_size\n",
            "dbl (1): success\n",
            "\n",
            "ℹ Use `spec()` to retrieve the full column specification for this data.\n",
            "ℹ Specify the column types or set `show_col_types = FALSE` to quiet this message.\n",
            "# A tibble: 6 × 3\n",
            "  treatment stone_size success\n",
            "  <chr>     <chr>        <dbl>\n",
            "1 B         large            1\n",
            "2 A         large            1\n",
            "3 A         large            0\n",
            "4 A         large            1\n",
            "5 A         large            1\n",
            "6 B         large            1\n"
          ]
        }
      ]
    },
    {
      "cell_type": "markdown",
      "source": [
        "The data contains three columns: treatment (A or B), stone_size (large or small) and success (0 = Failure or 1 = Success). To start, we want to know which treatment had a higher success rate regardless of stone size. We'll create a table with the number of successes and frequency of success by each treatment using the tidyverse syntax."
      ],
      "metadata": {
        "id": "kuGDaste2Vn8"
      }
    },
    {
      "cell_type": "code",
      "source": [
        "%%R\n",
        "# Calculate the number and frequency of success and failure of each treatment\n",
        "data %>% \n",
        "  group_by(treatment, success) %>%\n",
        "  summarise(N = n()) %>%\n",
        "  mutate(Freq = round(N/sum(N),3))"
      ],
      "metadata": {
        "colab": {
          "base_uri": "https://localhost:8080/"
        },
        "id": "pCcJl4YFz4No",
        "outputId": "fc02dd40-ef53-4440-e6ba-01ff6abb218f"
      },
      "execution_count": 33,
      "outputs": [
        {
          "output_type": "stream",
          "name": "stdout",
          "text": [
            "`summarise()` has grouped output by 'treatment'. You can override using the\n",
            "`.groups` argument.\n",
            "# A tibble: 4 × 4\n",
            "# Groups:   treatment [2]\n",
            "  treatment success     N  Freq\n",
            "  <chr>       <dbl> <int> <dbl>\n",
            "1 A               0    77 0.22 \n",
            "2 A               1   273 0.78 \n",
            "3 B               0    61 0.174\n",
            "4 B               1   289 0.826\n"
          ]
        }
      ]
    },
    {
      "cell_type": "markdown",
      "source": [
        "\n",
        "\n",
        "\n",
        "\n",
        "From the treatment and success rate descriptive table, we saw that treatment B performed better on average compared to treatment A (82% vs. 78% success rate). \n",
        "\n",
        "Now, we'll consider stone size and see what happens. I am going to stratify the data into small vs. large stone subcategories and compute the same success count and rate by treatment like I did in the previous task.\n",
        "\n",
        "The final table will be treatment X stone size X success."
      ],
      "metadata": {
        "id": "mb0EOWnw2eM2"
      }
    },
    {
      "cell_type": "code",
      "source": [
        "%%R\n",
        "# Calculate number and frequency of success and failure by stone size for each treatment\n",
        "sum_data <- \n",
        "  data %>% \n",
        "  group_by(treatment, stone_size, success) %>%\n",
        "  summarise(N = n()) %>%\n",
        "  mutate(Freq = round(N/sum(N),3))\n",
        "\n",
        "# Print out the data frame we just created\n",
        "sum_data"
      ],
      "metadata": {
        "colab": {
          "base_uri": "https://localhost:8080/"
        },
        "id": "06zWRkYFz4ZK",
        "outputId": "4c2f5a53-cca3-476a-f174-5be171565e08"
      },
      "execution_count": 34,
      "outputs": [
        {
          "output_type": "stream",
          "name": "stdout",
          "text": [
            "`summarise()` has grouped output by 'treatment', 'stone_size'. You can override\n",
            "using the `.groups` argument.\n",
            "# A tibble: 8 × 5\n",
            "# Groups:   treatment, stone_size [4]\n",
            "  treatment stone_size success     N  Freq\n",
            "  <chr>     <chr>        <dbl> <int> <dbl>\n",
            "1 A         large            0    71 0.27 \n",
            "2 A         large            1   192 0.73 \n",
            "3 A         small            0     6 0.069\n",
            "4 A         small            1    81 0.931\n",
            "5 B         large            0    25 0.312\n",
            "6 B         large            1    55 0.688\n",
            "7 B         small            0    36 0.133\n",
            "8 B         small            1   234 0.867\n"
          ]
        }
      ]
    },
    {
      "cell_type": "markdown",
      "source": [
        "\n",
        "\n",
        "\n",
        "\n",
        "When stratified by stone size, treatment A had better results for both large and small stones compared to treatment B (i.e., 73% and 93% v.s. 69% and 87%). Sometimes a plot is a more efficient way to communicate hidden numerical information in the data. I am going to apply a plotting technique to reveal the hidden information."
      ],
      "metadata": {
        "id": "8Lw8jzDh20wY"
      }
    },
    {
      "cell_type": "code",
      "source": [
        "%%R\n",
        "# Load ggplot2\n",
        "library(ggplot2)\n",
        "\n",
        "# Create a bar plot to show stone size count within each treatment\n",
        "sum_data %>%\n",
        "  ggplot(aes(x = treatment, y = N)) + \n",
        "  geom_bar(aes(fill = stone_size), stat = \"identity\") "
      ],
      "metadata": {
        "colab": {
          "base_uri": "https://localhost:8080/",
          "height": 497
        },
        "id": "_upl1XdRz4d-",
        "outputId": "0fa26d7a-3f18-4511-89c9-666f3b455e73"
      },
      "execution_count": 35,
      "outputs": [
        {
          "output_type": "display_data",
          "data": {
            "image/png": "[encoded data removed]"
          },
          "metadata": {}
        }
      ]
    },
    {
      "cell_type": "markdown",
      "source": [
        "From the bar plot, we noticed an unbalanced distribution of kidney stone sizes in the two treatment options. Large kidney stone cases tended to be in treatment A, while small kidney stone cases tended to be in treatment B. Can we confirm this hypothesis with statistical testing?\n",
        "\n",
        "\n",
        "Let's analyze the association between stone size (i.e., case severity) and treatment assignment using a statistical test called Chi-squared. The Chi-squared test is appropriate to test associations between two categorical variables. This test result, together with the common knowledge that a more severe case would be more likely to fail regardless of treatment, will shed light on the root cause of the paradox."
      ],
      "metadata": {
        "id": "Qg00Jm8I3DfU"
      }
    },
    {
      "cell_type": "code",
      "source": [
        "%%R\n",
        "# Load the broom package \n",
        "library(broom)\n",
        "\n",
        "# Run a Chi-squared test\n",
        "trt_ss <- chisq.test(data$treatment, data$stone_size)\n",
        "\n",
        "# Print out the result in tidy format \n",
        "tidy(trt_ss)"
      ],
      "metadata": {
        "colab": {
          "base_uri": "https://localhost:8080/"
        },
        "id": "O6phtnQkz4h-",
        "outputId": "28d9e9f6-06e3-4f18-9f33-73173a5882fc"
      },
      "execution_count": 36,
      "outputs": [
        {
          "output_type": "stream",
          "name": "stdout",
          "text": [
            "# A tibble: 1 × 4\n",
            "  statistic  p.value parameter method                                           \n",
            "      <dbl>    <dbl>     <int> <chr>                                            \n",
            "1      189. 4.40e-43         1 Pearson's Chi-squared test with Yates' continuit…\n"
          ]
        }
      ]
    },
    {
      "cell_type": "markdown",
      "source": [
        "\n",
        "From the above observations, we are confident that stone size/case severity is indeed the lurking variable (aka, confounding variable) in this study of kidney stone treatment and success rate. The good news is that there are ways to get rid of the effect of the lurking variable.\n",
        "\n",
        "Let's practice using multiple logistic regression to remove the unwanted effect of stone size, and then tidy the output with a function from the broom package."
      ],
      "metadata": {
        "id": "nNLGxyEt3QoG"
      }
    },
    {
      "cell_type": "code",
      "source": [
        "%%R\n",
        "# Run a multiple logistic regression\n",
        "m <- glm(data = data, success ~ stone_size + treatment, family = 'binomial')\n",
        "\n",
        "# Print out model coefficient table in tidy format\n",
        "tidy(m)"
      ],
      "metadata": {
        "colab": {
          "base_uri": "https://localhost:8080/"
        },
        "id": "Tx8pr-99z4k4",
        "outputId": "3140af49-62f1-4dbb-c413-078396ec10ae"
      },
      "execution_count": 37,
      "outputs": [
        {
          "output_type": "stream",
          "name": "stdout",
          "text": [
            "# A tibble: 3 × 5\n",
            "  term            estimate std.error statistic  p.value\n",
            "  <chr>              <dbl>     <dbl>     <dbl>    <dbl>\n",
            "1 (Intercept)        1.03      0.134      7.68 1.55e-14\n",
            "2 stone_sizesmall    1.26      0.239      5.27 1.33e- 7\n",
            "3 treatmentB        -0.357     0.229     -1.56 1.19e- 1\n"
          ]
        }
      ]
    },
    {
      "cell_type": "markdown",
      "source": [
        "We have successfully fit a multiple logistic regression and pulled out the model coefficient estimates! Typically (and arbitrarily), P-values below 0.05 indicate statistical significance. Another way to examine whether a significant relationship exists or not is to look at the 95% confidence interval (CI) of the estimate. In our example, we are testing to see:\n",
        "\n",
        "- if the effect of a small stone is the same as a big stone, and\n",
        "- if treatment A is as effective as treatment B.\n",
        "\n",
        "\n",
        "If the 95% CI for the coefficient estimates cover zero, we cannot conclude that one is different from the other. Otherwise, there is a significant effect."
      ],
      "metadata": {
        "id": "S5L84NYy3cv6"
      }
    },
    {
      "cell_type": "code",
      "source": [
        "%%R\n",
        "# Save the tidy model output into an object\n",
        "tidy_m <- tidy(m)\n",
        "\n",
        "# Plot the coefficient estimates with 95% CI for each term in the model\n",
        "tidy_m %>%\n",
        "  ggplot(aes(x=term, y=estimate)) + \n",
        "  geom_pointrange(aes(ymin=estimate-1.96*std.error, \n",
        "                      ymax=estimate+1.96*std.error)) +\n",
        "  geom_hline(yintercept = 0)"
      ],
      "metadata": {
        "colab": {
          "base_uri": "https://localhost:8080/",
          "height": 497
        },
        "id": "PpNjmaUvz4rI",
        "outputId": "ae5f6425-50de-4cdb-aba3-4a5a7ff73748"
      },
      "execution_count": 38,
      "outputs": [
        {
          "output_type": "display_data",
          "data": {
            "image/png": "[encoded data removed]"
          },
          "metadata": {}
        }
      ]
    },
    {
      "cell_type": "markdown",
      "source": [
        "**Conclusion:**\n",
        "\n",
        "Based on the coefficient estimate plot and the model output table, there is enough information to generate insights about the study. Is treatment A superior to B after taking into account the effect of stone size/severity level?\n",
        "\n",
        "Everything is in the output table from the regression model. Recall, a coefficient represents the effect size of the specific model term. A positive coefficient means that the term is positively related to the outcome. For categorical predictors, the coefficient is the effect on the outcome relative to the reference category. In our study, stone size large and treatment A are the reference categories."
      ],
      "metadata": {
        "id": "m265WZdf3pVz"
      }
    },
    {
      "cell_type": "code",
      "source": [
        "%%R\n",
        "# Is small stone more likely to be a success after controlling for treatment option effect?\n",
        "# Options: Yes, No (as string)\n",
        "small_high_success <- \"Yes\"\n",
        "\n",
        "# Is treatment A significantly better than B?\n",
        "# Options: Yes, No (as string)\n",
        "A_B_sig <- \"No\""
      ],
      "metadata": {
        "id": "1Trn0Hnyz4ug"
      },
      "execution_count": 39,
      "outputs": []
    },
    {
      "cell_type": "code",
      "source": [
        ""
      ],
      "metadata": {
        "id": "gY2nEgUu13m6"
      },
      "execution_count": null,
      "outputs": []
    },
    {
      "cell_type": "markdown",
      "source": [
        "Stay tuned for another coding session where I use Machine learning to train on this dataset."
      ],
      "metadata": {
        "id": "HBkaWVKB5Sab"
      }
    }
  ]
}